{
 "cells": [
  {
   "cell_type": "code",
   "execution_count": 1,
   "id": "25e5fa5f",
   "metadata": {},
   "outputs": [],
   "source": [
    "from kedro.runner.sequential_runner import SequentialRunner\n",
    "from kedro.io.data_catalog import DataCatalog"
   ]
  },
  {
   "cell_type": "code",
   "execution_count": 2,
   "id": "a438128b",
   "metadata": {},
   "outputs": [],
   "source": [
    "from jaffle_shop.utilities.context import all_logging_disabled"
   ]
  },
  {
   "cell_type": "code",
   "execution_count": 3,
   "id": "d9303846",
   "metadata": {},
   "outputs": [
    {
     "data": {
      "text/html": [
       "<pre style=\"white-space:pre;overflow-x:auto;line-height:normal;font-family:Menlo,'DejaVu Sans Mono',consolas,'Courier New',monospace\"></pre>\n"
      ],
      "text/plain": []
     },
     "metadata": {},
     "output_type": "display_data"
    },
    {
     "data": {
      "text/plain": [
       "\n",
       "\u001b[1m{\u001b[0m\n",
       "    \u001b[32m'stg_customers'\u001b[0m,\n",
       "    \u001b[32m'orders'\u001b[0m,\n",
       "    \u001b[32m'raw_orders'\u001b[0m,\n",
       "    \u001b[32m'stg_orders'\u001b[0m,\n",
       "    \u001b[32m'raw_payments'\u001b[0m,\n",
       "    \u001b[32m'raw_customers'\u001b[0m,\n",
       "    \u001b[32m'customers'\u001b[0m,\n",
       "    \u001b[32m'params:payment_methods'\u001b[0m,\n",
       "    \u001b[32m'stg_payments'\u001b[0m\n",
       "\u001b[1m}\u001b[0m"
      ]
     },
     "execution_count": 3,
     "metadata": {},
     "output_type": "execute_result"
    }
   ],
   "source": [
    "default_pipeline = pipelines['__default__']\n",
    "default_pipeline.datasets()"
   ]
  },
  {
   "cell_type": "code",
   "execution_count": 4,
   "id": "d144aa3b",
   "metadata": {},
   "outputs": [],
   "source": [
    "default_pipeline = pipelines['__default__']\n",
    "\n",
    "with all_logging_disabled():\n",
    "    free_outputs = SequentialRunner().run(\n",
    "        pipeline=default_pipeline.filter(\n",
    "            tags=None,\n",
    "            from_nodes = None,\n",
    "            to_nodes = None,\n",
    "            node_names = None,\n",
    "            from_inputs = None,\n",
    "            to_outputs = None,\n",
    "            node_namespace = None,\n",
    "        ),\n",
    "        catalog=DataCatalog(\n",
    "            feed_dict={\n",
    "                x: catalog.load(x).head(0)\n",
    "                if 'params:' not in x else catalog.load(x)\n",
    "                for x in default_pipeline.inputs()\n",
    "\n",
    "            }\n",
    "        ),\n",
    "     #   hook_manager=\n",
    "    )\n",
    "\n",
    "        "
   ]
  },
  {
   "cell_type": "code",
   "execution_count": 5,
   "id": "d556c0f7",
   "metadata": {},
   "outputs": [
    {
     "data": {
      "text/html": [
       "<pre style=\"white-space:pre;overflow-x:auto;line-height:normal;font-family:Menlo,'DejaVu Sans Mono',consolas,'Courier New',monospace\"></pre>\n"
      ],
      "text/plain": []
     },
     "metadata": {},
     "output_type": "display_data"
    },
    {
     "data": {
      "text/plain": [
       "\n",
       "\u001b[1m{\u001b[0m\n",
       "    \u001b[32m'customers'\u001b[0m: \u001b[1m<\u001b[0m\u001b[1;95mnetworkx.classes.digraph.DiGraph\u001b[0m\u001b[39m object at \u001b[0m\u001b[1;36m0x15789bd00\u001b[0m\u001b[39m>,\u001b[0m\n",
       "\u001b[39m    \u001b[0m\u001b[32m'orders'\u001b[0m\u001b[39m: <networkx.classes.digraph.DiGraph object at \u001b[0m\u001b[1;36m0x1578957b0\u001b[0m\u001b[1m>\u001b[0m\n",
       "\u001b[1m}\u001b[0m"
      ]
     },
     "execution_count": 5,
     "metadata": {},
     "output_type": "execute_result"
    }
   ],
   "source": [
    "from jaffle_shop.utilities.graph import ibis_expr_to_graph\n",
    "nx_ibis_graphs = {k:ibis_expr_to_graph(v) for k,v in free_outputs.items()}\n",
    "nx_ibis_graphs"
   ]
  },
  {
   "cell_type": "code",
   "execution_count": 6,
   "id": "0e03243e",
   "metadata": {
    "scrolled": false
   },
   "outputs": [],
   "source": [
    "from jaffle_shop.utilities.graph import kedro_pipeline_to_graph"
   ]
  },
  {
   "cell_type": "code",
   "execution_count": 7,
   "id": "24c22130",
   "metadata": {},
   "outputs": [],
   "source": [
    "nx_kedro_graph = kedro_pipeline_to_graph(default_pipeline, catalog)"
   ]
  },
  {
   "cell_type": "code",
   "execution_count": 8,
   "id": "e38cce2b",
   "metadata": {},
   "outputs": [
    {
     "data": {
      "text/html": [
       "<pre style=\"white-space:pre;overflow-x:auto;line-height:normal;font-family:Menlo,'DejaVu Sans Mono',consolas,'Courier New',monospace\"></pre>\n"
      ],
      "text/plain": []
     },
     "metadata": {},
     "output_type": "display_data"
    },
    {
     "data": {
      "text/plain": [
       "\u001b[1m<\u001b[0m\u001b[1;95mnetworkx.classes.digraph.DiGraph\u001b[0m\u001b[39m object at \u001b[0m\u001b[1;36m0x15788ed40\u001b[0m\u001b[1m>\u001b[0m"
      ]
     },
     "execution_count": 8,
     "metadata": {},
     "output_type": "execute_result"
    }
   ],
   "source": [
    "nx_kedro_graph "
   ]
  },
  {
   "cell_type": "code",
   "execution_count": 9,
   "id": "6ef6a355",
   "metadata": {},
   "outputs": [],
   "source": [
    "#default_pipeline.nodes[0].run({x:catalog.load(x).head(0).cache() for x in default_pipeline.nodes[0].inputs})"
   ]
  },
  {
   "cell_type": "code",
   "execution_count": 12,
   "id": "6facafcf",
   "metadata": {
    "scrolled": false
   },
   "outputs": [
    {
     "name": "stdout",
     "output_type": "stream",
     "text": [
      "graph.html\n",
      "graph.html\n"
     ]
    },
    {
     "data": {
      "text/html": [
       "<pre style=\"white-space:pre;overflow-x:auto;line-height:normal;font-family:Menlo,'DejaVu Sans Mono',consolas,'Courier New',monospace\"></pre>\n"
      ],
      "text/plain": []
     },
     "metadata": {},
     "output_type": "display_data"
    },
    {
     "data": {
      "text/html": [
       "\n",
       "        <iframe\n",
       "            width=\"100%\"\n",
       "            height=\"600px\"\n",
       "            src=\"graph.html\"\n",
       "            frameborder=\"0\"\n",
       "            allowfullscreen\n",
       "            \n",
       "        ></iframe>\n",
       "        "
      ],
      "text/plain": [
       "\u001b[1m<\u001b[0m\u001b[1;95mIPython.lib.display.IFrame\u001b[0m\u001b[39m object at \u001b[0m\u001b[1;36m0x15707e500\u001b[0m\u001b[1m>\u001b[0m"
      ]
     },
     "execution_count": 12,
     "metadata": {},
     "output_type": "execute_result"
    }
   ],
   "source": [
    "from jaffle_shop.utilities.graph import render_nx_graph\n",
    "\n",
    "render_nx_graph(nx_kedro_graph, color_field=\"attr_type\").show('graph.html')"
   ]
  },
  {
   "cell_type": "code",
   "execution_count": 11,
   "id": "b571ff3f",
   "metadata": {},
   "outputs": [
    {
     "name": "stdout",
     "output_type": "stream",
     "text": [
      "graph.html\n",
      "graph.html\n"
     ]
    },
    {
     "data": {
      "text/html": [
       "<pre style=\"white-space:pre;overflow-x:auto;line-height:normal;font-family:Menlo,'DejaVu Sans Mono',consolas,'Courier New',monospace\"></pre>\n"
      ],
      "text/plain": []
     },
     "metadata": {},
     "output_type": "display_data"
    },
    {
     "data": {
      "text/html": [
       "\n",
       "        <iframe\n",
       "            width=\"100%\"\n",
       "            height=\"600px\"\n",
       "            src=\"graph.html\"\n",
       "            frameborder=\"0\"\n",
       "            allowfullscreen\n",
       "            \n",
       "        ></iframe>\n",
       "        "
      ],
      "text/plain": [
       "\u001b[1m<\u001b[0m\u001b[1;95mIPython.lib.display.IFrame\u001b[0m\u001b[39m object at \u001b[0m\u001b[1;36m0x157982c20\u001b[0m\u001b[1m>\u001b[0m"
      ]
     },
     "execution_count": 11,
     "metadata": {},
     "output_type": "execute_result"
    }
   ],
   "source": [
    "render_nx_graph(\n",
    "    nx_ibis_graphs['orders'], \n",
    "    color_field=\"operation_name\", \n",
    "    label_attr=\"operation_name\",\n",
    "    title_attr=\"data_name\"\n",
    ").show('graph.html')"
   ]
  }
 ],
 "metadata": {
  "kernelspec": {
   "display_name": "Kedro (jaffle_shop)",
   "language": "python",
   "name": "kedro_jaffle_shop"
  },
  "language_info": {
   "codemirror_mode": {
    "name": "ipython",
    "version": 3
   },
   "file_extension": ".py",
   "mimetype": "text/x-python",
   "name": "python",
   "nbconvert_exporter": "python",
   "pygments_lexer": "ipython3",
   "version": "3.10.13"
  }
 },
 "nbformat": 4,
 "nbformat_minor": 5
}
