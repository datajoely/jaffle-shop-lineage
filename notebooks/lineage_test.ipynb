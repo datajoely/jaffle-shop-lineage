{
 "cells": [
  {
   "cell_type": "code",
   "execution_count": 1,
   "id": "25e5fa5f",
   "metadata": {},
   "outputs": [],
   "source": [
    "from kedro.runner.sequential_runner import SequentialRunner\n",
    "from kedro.io.data_catalog import DataCatalog\n",
    "from jaffle_shop.utilities.graph import ibis_expr_to_graph,kedro_pipeline_to_graph\n",
    "from jaffle_shop.utilities.context import all_logging_disabled"
   ]
  },
  {
   "cell_type": "code",
   "execution_count": 3,
   "id": "d9303846",
   "metadata": {},
   "outputs": [
    {
     "data": {
      "text/html": [
       "<pre style=\"white-space:pre;overflow-x:auto;line-height:normal;font-family:Menlo,'DejaVu Sans Mono',consolas,'Courier New',monospace\"></pre>\n"
      ],
      "text/plain": []
     },
     "metadata": {},
     "output_type": "display_data"
    },
    {
     "data": {
      "text/plain": [
       "\n",
       "\u001b[1m{\u001b[0m\n",
       "    \u001b[32m'orders'\u001b[0m,\n",
       "    \u001b[32m'stg_customers'\u001b[0m,\n",
       "    \u001b[32m'temp_orders'\u001b[0m,\n",
       "    \u001b[32m'params:payment_methods'\u001b[0m,\n",
       "    \u001b[32m'customers'\u001b[0m,\n",
       "    \u001b[32m'raw_customers'\u001b[0m,\n",
       "    \u001b[32m'stg_orders'\u001b[0m,\n",
       "    \u001b[32m'raw_payments'\u001b[0m,\n",
       "    \u001b[32m'stg_payments'\u001b[0m,\n",
       "    \u001b[32m'raw_orders'\u001b[0m\n",
       "\u001b[1m}\u001b[0m"
      ]
     },
     "execution_count": 3,
     "metadata": {},
     "output_type": "execute_result"
    }
   ],
   "source": [
    "default_pipeline = pipelines['__default__']\n",
    "default_pipeline.datasets()"
   ]
  },
  {
   "cell_type": "code",
   "execution_count": 4,
   "id": "d144aa3b",
   "metadata": {},
   "outputs": [],
   "source": [
    "default_pipeline = pipelines['__default__']\n",
    "\n",
    "with all_logging_disabled():\n",
    "    free_outputs = SequentialRunner().run(\n",
    "        pipeline=default_pipeline.filter(\n",
    "            tags=None,\n",
    "            from_nodes = None,\n",
    "            to_nodes = None,\n",
    "            node_names = None,\n",
    "            from_inputs = None,\n",
    "            to_outputs = None,\n",
    "            node_namespace = None,\n",
    "        ),\n",
    "        catalog=DataCatalog(\n",
    "            feed_dict={\n",
    "                x: catalog.load(x).head(0)\n",
    "                if 'params:' not in x else catalog.load(x)\n",
    "                for x in default_pipeline.inputs()\n",
    "\n",
    "            }\n",
    "        ),\n",
    "     #   hook_manager=\n",
    "    )\n",
    "\n",
    "        "
   ]
  },
  {
   "cell_type": "code",
   "execution_count": 33,
   "id": "d556c0f7",
   "metadata": {},
   "outputs": [
    {
     "data": {
      "text/html": [
       "<pre style=\"white-space:pre;overflow-x:auto;line-height:normal;font-family:Menlo,'DejaVu Sans Mono',consolas,'Courier New',monospace\"></pre>\n"
      ],
      "text/plain": []
     },
     "metadata": {},
     "output_type": "display_data"
    },
    {
     "data": {
      "text/plain": [
       "\n",
       "\u001b[1m{\u001b[0m\n",
       "    \u001b[32m'orders'\u001b[0m: \u001b[1m<\u001b[0m\u001b[1;95mnetworkx.classes.digraph.DiGraph\u001b[0m\u001b[39m object at \u001b[0m\u001b[1;36m0x1647c1600\u001b[0m\u001b[39m>,\u001b[0m\n",
       "\u001b[39m    \u001b[0m\u001b[32m'temp_orders'\u001b[0m\u001b[39m: <networkx.classes.digraph.DiGraph object at \u001b[0m\u001b[1;36m0x1647c2770\u001b[0m\u001b[39m>,\u001b[0m\n",
       "\u001b[39m    \u001b[0m\u001b[32m'customers'\u001b[0m\u001b[39m: <networkx.classes.digraph.DiGraph object at \u001b[0m\u001b[1;36m0x1647c07c0\u001b[0m\u001b[1m>\u001b[0m\n",
       "\u001b[1m}\u001b[0m"
      ]
     },
     "execution_count": 33,
     "metadata": {},
     "output_type": "execute_result"
    }
   ],
   "source": [
    "\n",
    "nx_ibis_graphs = {k:ibis_expr_to_graph(v) for k,v in free_outputs.items()}\n",
    "nx_ibis_graphs"
   ]
  },
  {
   "cell_type": "code",
   "execution_count": 6,
   "id": "0e03243e",
   "metadata": {
    "scrolled": false
   },
   "outputs": [],
   "source": []
  },
  {
   "cell_type": "code",
   "execution_count": 7,
   "id": "24c22130",
   "metadata": {},
   "outputs": [],
   "source": [
    "nx_kedro_graph = kedro_pipeline_to_graph(default_pipeline, catalog)"
   ]
  },
  {
   "cell_type": "code",
   "execution_count": 77,
   "id": "6facafcf",
   "metadata": {
    "scrolled": false
   },
   "outputs": [
    {
     "name": "stdout",
     "output_type": "stream",
     "text": [
      "graph.html\n",
      "graph.html\n"
     ]
    },
    {
     "data": {
      "text/html": [
       "<pre style=\"white-space:pre;overflow-x:auto;line-height:normal;font-family:Menlo,'DejaVu Sans Mono',consolas,'Courier New',monospace\"></pre>\n"
      ],
      "text/plain": []
     },
     "metadata": {},
     "output_type": "display_data"
    },
    {
     "data": {
      "text/html": [
       "\n",
       "        <iframe\n",
       "            width=\"100%\"\n",
       "            height=\"600px\"\n",
       "            src=\"graph.html\"\n",
       "            frameborder=\"0\"\n",
       "            allowfullscreen\n",
       "            \n",
       "        ></iframe>\n",
       "        "
      ],
      "text/plain": [
       "\u001b[1m<\u001b[0m\u001b[1;95mIPython.lib.display.IFrame\u001b[0m\u001b[39m object at \u001b[0m\u001b[1;36m0x16899bbb0\u001b[0m\u001b[1m>\u001b[0m"
      ]
     },
     "execution_count": 77,
     "metadata": {},
     "output_type": "execute_result"
    }
   ],
   "source": [
    "from jaffle_shop.utilities.graph import render_nx_graph, render_kedro_node\n",
    "\n",
    "render_nx_graph(nx_kedro_graph, color_field=\"attr_type\", title_attr=\"obj\").show('graph.html')"
   ]
  },
  {
   "cell_type": "code",
   "execution_count": 35,
   "id": "b571ff3f",
   "metadata": {},
   "outputs": [
    {
     "name": "stdout",
     "output_type": "stream",
     "text": [
      "graph.html\n",
      "graph.html\n"
     ]
    },
    {
     "data": {
      "text/html": [
       "<pre style=\"white-space:pre;overflow-x:auto;line-height:normal;font-family:Menlo,'DejaVu Sans Mono',consolas,'Courier New',monospace\"></pre>\n"
      ],
      "text/plain": []
     },
     "metadata": {},
     "output_type": "display_data"
    },
    {
     "data": {
      "text/html": [
       "\n",
       "        <iframe\n",
       "            width=\"100%\"\n",
       "            height=\"600px\"\n",
       "            src=\"graph.html\"\n",
       "            frameborder=\"0\"\n",
       "            allowfullscreen\n",
       "            \n",
       "        ></iframe>\n",
       "        "
      ],
      "text/plain": [
       "\u001b[1m<\u001b[0m\u001b[1;95mIPython.lib.display.IFrame\u001b[0m\u001b[39m object at \u001b[0m\u001b[1;36m0x1647d7190\u001b[0m\u001b[1m>\u001b[0m"
      ]
     },
     "execution_count": 35,
     "metadata": {},
     "output_type": "execute_result"
    }
   ],
   "source": [
    "render_nx_graph(\n",
    "    nx_ibis_graphs['orders'], \n",
    "    color_field=\"operation_name\", \n",
    "    label_attr=\"operation_name\",\n",
    "    title_attr=\"data_name\"\n",
    ").show('graph.html')"
   ]
  },
  {
   "cell_type": "code",
   "execution_count": 43,
   "id": "50f44254",
   "metadata": {},
   "outputs": [
    {
     "data": {
      "text/html": [
       "<pre style=\"white-space:pre;overflow-x:auto;line-height:normal;font-family:Menlo,'DejaVu Sans Mono',consolas,'Courier New',monospace\"><span style=\"color: #7fbfbf; text-decoration-color: #7fbfbf\">[02/22/24 16:48:23] </span><span style=\"color: #000080; text-decoration-color: #000080\">INFO    </span> Loading data from <span style=\"color: #ff8700; text-decoration-color: #ff8700\">stg_orders</span> <span style=\"font-weight: bold\">(</span>TableDataset<span style=\"font-weight: bold\">)</span><span style=\"color: #808000; text-decoration-color: #808000\">...</span>                     <a href=\"file:///Users/joel_schwarzmann/anaconda3/envs/jaffle-lineage/lib/python3.10/site-packages/kedro/io/data_catalog.py\" target=\"_blank\"><span style=\"color: #7f7f7f; text-decoration-color: #7f7f7f\">data_catalog.py</span></a><span style=\"color: #7f7f7f; text-decoration-color: #7f7f7f\">:</span><a href=\"file:///Users/joel_schwarzmann/anaconda3/envs/jaffle-lineage/lib/python3.10/site-packages/kedro/io/data_catalog.py#483\" target=\"_blank\"><span style=\"color: #7f7f7f; text-decoration-color: #7f7f7f\">483</span></a>\n",
       "</pre>\n"
      ],
      "text/plain": [
       "\u001b[2;36m[02/22/24 16:48:23]\u001b[0m\u001b[2;36m \u001b[0m\u001b[34mINFO    \u001b[0m Loading data from \u001b[38;5;208mstg_orders\u001b[0m \u001b[1m(\u001b[0mTableDataset\u001b[1m)\u001b[0m\u001b[33m...\u001b[0m                     \u001b]8;id=514552;file:///Users/joel_schwarzmann/anaconda3/envs/jaffle-lineage/lib/python3.10/site-packages/kedro/io/data_catalog.py\u001b\\\u001b[2mdata_catalog.py\u001b[0m\u001b]8;;\u001b\\\u001b[2m:\u001b[0m\u001b]8;id=390428;file:///Users/joel_schwarzmann/anaconda3/envs/jaffle-lineage/lib/python3.10/site-packages/kedro/io/data_catalog.py#483\u001b\\\u001b[2m483\u001b[0m\u001b]8;;\u001b\\\n"
      ]
     },
     "metadata": {},
     "output_type": "display_data"
    },
    {
     "data": {
      "text/html": [
       "<pre style=\"white-space:pre;overflow-x:auto;line-height:normal;font-family:Menlo,'DejaVu Sans Mono',consolas,'Courier New',monospace\"><span style=\"color: #7fbfbf; text-decoration-color: #7fbfbf\">                    </span><span style=\"color: #000080; text-decoration-color: #000080\">INFO    </span> Loading data from <span style=\"color: #ff8700; text-decoration-color: #ff8700\">stg_payments</span> <span style=\"font-weight: bold\">(</span>TableDataset<span style=\"font-weight: bold\">)</span><span style=\"color: #808000; text-decoration-color: #808000\">...</span>                   <a href=\"file:///Users/joel_schwarzmann/anaconda3/envs/jaffle-lineage/lib/python3.10/site-packages/kedro/io/data_catalog.py\" target=\"_blank\"><span style=\"color: #7f7f7f; text-decoration-color: #7f7f7f\">data_catalog.py</span></a><span style=\"color: #7f7f7f; text-decoration-color: #7f7f7f\">:</span><a href=\"file:///Users/joel_schwarzmann/anaconda3/envs/jaffle-lineage/lib/python3.10/site-packages/kedro/io/data_catalog.py#483\" target=\"_blank\"><span style=\"color: #7f7f7f; text-decoration-color: #7f7f7f\">483</span></a>\n",
       "</pre>\n"
      ],
      "text/plain": [
       "\u001b[2;36m                   \u001b[0m\u001b[2;36m \u001b[0m\u001b[34mINFO    \u001b[0m Loading data from \u001b[38;5;208mstg_payments\u001b[0m \u001b[1m(\u001b[0mTableDataset\u001b[1m)\u001b[0m\u001b[33m...\u001b[0m                   \u001b]8;id=356716;file:///Users/joel_schwarzmann/anaconda3/envs/jaffle-lineage/lib/python3.10/site-packages/kedro/io/data_catalog.py\u001b\\\u001b[2mdata_catalog.py\u001b[0m\u001b]8;;\u001b\\\u001b[2m:\u001b[0m\u001b]8;id=696030;file:///Users/joel_schwarzmann/anaconda3/envs/jaffle-lineage/lib/python3.10/site-packages/kedro/io/data_catalog.py#483\u001b\\\u001b[2m483\u001b[0m\u001b]8;;\u001b\\\n"
      ]
     },
     "metadata": {},
     "output_type": "display_data"
    },
    {
     "data": {
      "text/html": [
       "<pre style=\"white-space:pre;overflow-x:auto;line-height:normal;font-family:Menlo,'DejaVu Sans Mono',consolas,'Courier New',monospace\"><span style=\"color: #7fbfbf; text-decoration-color: #7fbfbf\">                    </span><span style=\"color: #000080; text-decoration-color: #000080\">INFO    </span> Loading data from <span style=\"color: #ff8700; text-decoration-color: #ff8700\">params:payment_methods</span> <span style=\"font-weight: bold\">(</span>MemoryDataset<span style=\"font-weight: bold\">)</span><span style=\"color: #808000; text-decoration-color: #808000\">...</span>        <a href=\"file:///Users/joel_schwarzmann/anaconda3/envs/jaffle-lineage/lib/python3.10/site-packages/kedro/io/data_catalog.py\" target=\"_blank\"><span style=\"color: #7f7f7f; text-decoration-color: #7f7f7f\">data_catalog.py</span></a><span style=\"color: #7f7f7f; text-decoration-color: #7f7f7f\">:</span><a href=\"file:///Users/joel_schwarzmann/anaconda3/envs/jaffle-lineage/lib/python3.10/site-packages/kedro/io/data_catalog.py#483\" target=\"_blank\"><span style=\"color: #7f7f7f; text-decoration-color: #7f7f7f\">483</span></a>\n",
       "</pre>\n"
      ],
      "text/plain": [
       "\u001b[2;36m                   \u001b[0m\u001b[2;36m \u001b[0m\u001b[34mINFO    \u001b[0m Loading data from \u001b[38;5;208mparams:payment_methods\u001b[0m \u001b[1m(\u001b[0mMemoryDataset\u001b[1m)\u001b[0m\u001b[33m...\u001b[0m        \u001b]8;id=106848;file:///Users/joel_schwarzmann/anaconda3/envs/jaffle-lineage/lib/python3.10/site-packages/kedro/io/data_catalog.py\u001b\\\u001b[2mdata_catalog.py\u001b[0m\u001b]8;;\u001b\\\u001b[2m:\u001b[0m\u001b]8;id=394387;file:///Users/joel_schwarzmann/anaconda3/envs/jaffle-lineage/lib/python3.10/site-packages/kedro/io/data_catalog.py#483\u001b\\\u001b[2m483\u001b[0m\u001b]8;;\u001b\\\n"
      ]
     },
     "metadata": {},
     "output_type": "display_data"
    },
    {
     "data": {
      "text/html": [
       "<pre style=\"white-space:pre;overflow-x:auto;line-height:normal;font-family:Menlo,'DejaVu Sans Mono',consolas,'Courier New',monospace\"><span style=\"color: #7fbfbf; text-decoration-color: #7fbfbf\">                    </span><span style=\"color: #000080; text-decoration-color: #000080\">INFO    </span> Running node:                                                              <a href=\"file:///Users/joel_schwarzmann/anaconda3/envs/jaffle-lineage/lib/python3.10/site-packages/kedro/pipeline/node.py\" target=\"_blank\"><span style=\"color: #7f7f7f; text-decoration-color: #7f7f7f\">node.py</span></a><span style=\"color: #7f7f7f; text-decoration-color: #7f7f7f\">:</span><a href=\"file:///Users/joel_schwarzmann/anaconda3/envs/jaffle-lineage/lib/python3.10/site-packages/kedro/pipeline/node.py#340\" target=\"_blank\"><span style=\"color: #7f7f7f; text-decoration-color: #7f7f7f\">340</span></a>\n",
       "<span style=\"color: #7fbfbf; text-decoration-color: #7fbfbf\">                    </span>         <span style=\"color: #800080; text-decoration-color: #800080; font-weight: bold\">process_orders</span><span style=\"font-weight: bold\">([</span>stg_orders;stg_payments;params:payment_methods<span style=\"font-weight: bold\">])</span> -&gt;        <span style=\"color: #7f7f7f; text-decoration-color: #7f7f7f\">           </span>\n",
       "<span style=\"color: #7fbfbf; text-decoration-color: #7fbfbf\">                    </span>         <span style=\"font-weight: bold\">[</span>orders;temp_orders<span style=\"font-weight: bold\">]</span>                                                       <span style=\"color: #7f7f7f; text-decoration-color: #7f7f7f\">           </span>\n",
       "</pre>\n"
      ],
      "text/plain": [
       "\u001b[2;36m                   \u001b[0m\u001b[2;36m \u001b[0m\u001b[34mINFO    \u001b[0m Running node:                                                              \u001b]8;id=539915;file:///Users/joel_schwarzmann/anaconda3/envs/jaffle-lineage/lib/python3.10/site-packages/kedro/pipeline/node.py\u001b\\\u001b[2mnode.py\u001b[0m\u001b]8;;\u001b\\\u001b[2m:\u001b[0m\u001b]8;id=940770;file:///Users/joel_schwarzmann/anaconda3/envs/jaffle-lineage/lib/python3.10/site-packages/kedro/pipeline/node.py#340\u001b\\\u001b[2m340\u001b[0m\u001b]8;;\u001b\\\n",
       "\u001b[2;36m                    \u001b[0m         \u001b[1;35mprocess_orders\u001b[0m\u001b[1m(\u001b[0m\u001b[1m[\u001b[0mstg_orders;stg_payments;params:payment_methods\u001b[1m]\u001b[0m\u001b[1m)\u001b[0m ->        \u001b[2m           \u001b[0m\n",
       "\u001b[2;36m                    \u001b[0m         \u001b[1m[\u001b[0morders;temp_orders\u001b[1m]\u001b[0m                                                       \u001b[2m           \u001b[0m\n"
      ]
     },
     "metadata": {},
     "output_type": "display_data"
    },
    {
     "name": "stdout",
     "output_type": "stream",
     "text": [
      "graph.html\n",
      "graph.html\n"
     ]
    },
    {
     "data": {
      "text/html": [
       "<pre style=\"white-space:pre;overflow-x:auto;line-height:normal;font-family:Menlo,'DejaVu Sans Mono',consolas,'Courier New',monospace\"></pre>\n"
      ],
      "text/plain": []
     },
     "metadata": {},
     "output_type": "display_data"
    },
    {
     "data": {
      "text/html": [
       "\n",
       "        <iframe\n",
       "            width=\"100%\"\n",
       "            height=\"600px\"\n",
       "            src=\"graph.html\"\n",
       "            frameborder=\"0\"\n",
       "            allowfullscreen\n",
       "            \n",
       "        ></iframe>\n",
       "        "
      ],
      "text/plain": [
       "\u001b[1m<\u001b[0m\u001b[1;95mIPython.lib.display.IFrame\u001b[0m\u001b[39m object at \u001b[0m\u001b[1;36m0x164203250\u001b[0m\u001b[1m>\u001b[0m"
      ]
     },
     "execution_count": 43,
     "metadata": {},
     "output_type": "execute_result"
    }
   ],
   "source": [
    "n = default_pipeline.nodes[4]\n",
    "render_kedro_node(n,catalog).show('graph.html')"
   ]
  },
  {
   "cell_type": "code",
   "execution_count": 87,
   "id": "17cb2161",
   "metadata": {},
   "outputs": [
    {
     "data": {
      "text/html": [
       "<pre style=\"white-space:pre;overflow-x:auto;line-height:normal;font-family:Menlo,'DejaVu Sans Mono',consolas,'Courier New',monospace\"><span style=\"color: #7fbfbf; text-decoration-color: #7fbfbf\">[02/22/24 17:09:03] </span><span style=\"color: #000080; text-decoration-color: #000080\">INFO    </span> Loading data from <span style=\"color: #ff8700; text-decoration-color: #ff8700\">stg_orders</span> <span style=\"font-weight: bold\">(</span>TableDataset<span style=\"font-weight: bold\">)</span><span style=\"color: #808000; text-decoration-color: #808000\">...</span>                     <a href=\"file:///Users/joel_schwarzmann/anaconda3/envs/jaffle-lineage/lib/python3.10/site-packages/kedro/io/data_catalog.py\" target=\"_blank\"><span style=\"color: #7f7f7f; text-decoration-color: #7f7f7f\">data_catalog.py</span></a><span style=\"color: #7f7f7f; text-decoration-color: #7f7f7f\">:</span><a href=\"file:///Users/joel_schwarzmann/anaconda3/envs/jaffle-lineage/lib/python3.10/site-packages/kedro/io/data_catalog.py#483\" target=\"_blank\"><span style=\"color: #7f7f7f; text-decoration-color: #7f7f7f\">483</span></a>\n",
       "</pre>\n"
      ],
      "text/plain": [
       "\u001b[2;36m[02/22/24 17:09:03]\u001b[0m\u001b[2;36m \u001b[0m\u001b[34mINFO    \u001b[0m Loading data from \u001b[38;5;208mstg_orders\u001b[0m \u001b[1m(\u001b[0mTableDataset\u001b[1m)\u001b[0m\u001b[33m...\u001b[0m                     \u001b]8;id=886475;file:///Users/joel_schwarzmann/anaconda3/envs/jaffle-lineage/lib/python3.10/site-packages/kedro/io/data_catalog.py\u001b\\\u001b[2mdata_catalog.py\u001b[0m\u001b]8;;\u001b\\\u001b[2m:\u001b[0m\u001b]8;id=51456;file:///Users/joel_schwarzmann/anaconda3/envs/jaffle-lineage/lib/python3.10/site-packages/kedro/io/data_catalog.py#483\u001b\\\u001b[2m483\u001b[0m\u001b]8;;\u001b\\\n"
      ]
     },
     "metadata": {},
     "output_type": "display_data"
    },
    {
     "data": {
      "text/html": [
       "<pre style=\"white-space:pre;overflow-x:auto;line-height:normal;font-family:Menlo,'DejaVu Sans Mono',consolas,'Courier New',monospace\"><span style=\"color: #7fbfbf; text-decoration-color: #7fbfbf\">                    </span><span style=\"color: #000080; text-decoration-color: #000080\">INFO    </span> Loading data from <span style=\"color: #ff8700; text-decoration-color: #ff8700\">stg_payments</span> <span style=\"font-weight: bold\">(</span>TableDataset<span style=\"font-weight: bold\">)</span><span style=\"color: #808000; text-decoration-color: #808000\">...</span>                   <a href=\"file:///Users/joel_schwarzmann/anaconda3/envs/jaffle-lineage/lib/python3.10/site-packages/kedro/io/data_catalog.py\" target=\"_blank\"><span style=\"color: #7f7f7f; text-decoration-color: #7f7f7f\">data_catalog.py</span></a><span style=\"color: #7f7f7f; text-decoration-color: #7f7f7f\">:</span><a href=\"file:///Users/joel_schwarzmann/anaconda3/envs/jaffle-lineage/lib/python3.10/site-packages/kedro/io/data_catalog.py#483\" target=\"_blank\"><span style=\"color: #7f7f7f; text-decoration-color: #7f7f7f\">483</span></a>\n",
       "</pre>\n"
      ],
      "text/plain": [
       "\u001b[2;36m                   \u001b[0m\u001b[2;36m \u001b[0m\u001b[34mINFO    \u001b[0m Loading data from \u001b[38;5;208mstg_payments\u001b[0m \u001b[1m(\u001b[0mTableDataset\u001b[1m)\u001b[0m\u001b[33m...\u001b[0m                   \u001b]8;id=588809;file:///Users/joel_schwarzmann/anaconda3/envs/jaffle-lineage/lib/python3.10/site-packages/kedro/io/data_catalog.py\u001b\\\u001b[2mdata_catalog.py\u001b[0m\u001b]8;;\u001b\\\u001b[2m:\u001b[0m\u001b]8;id=764338;file:///Users/joel_schwarzmann/anaconda3/envs/jaffle-lineage/lib/python3.10/site-packages/kedro/io/data_catalog.py#483\u001b\\\u001b[2m483\u001b[0m\u001b]8;;\u001b\\\n"
      ]
     },
     "metadata": {},
     "output_type": "display_data"
    },
    {
     "data": {
      "text/html": [
       "<pre style=\"white-space:pre;overflow-x:auto;line-height:normal;font-family:Menlo,'DejaVu Sans Mono',consolas,'Courier New',monospace\"><span style=\"color: #7fbfbf; text-decoration-color: #7fbfbf\">                    </span><span style=\"color: #000080; text-decoration-color: #000080\">INFO    </span> Loading data from <span style=\"color: #ff8700; text-decoration-color: #ff8700\">params:payment_methods</span> <span style=\"font-weight: bold\">(</span>MemoryDataset<span style=\"font-weight: bold\">)</span><span style=\"color: #808000; text-decoration-color: #808000\">...</span>        <a href=\"file:///Users/joel_schwarzmann/anaconda3/envs/jaffle-lineage/lib/python3.10/site-packages/kedro/io/data_catalog.py\" target=\"_blank\"><span style=\"color: #7f7f7f; text-decoration-color: #7f7f7f\">data_catalog.py</span></a><span style=\"color: #7f7f7f; text-decoration-color: #7f7f7f\">:</span><a href=\"file:///Users/joel_schwarzmann/anaconda3/envs/jaffle-lineage/lib/python3.10/site-packages/kedro/io/data_catalog.py#483\" target=\"_blank\"><span style=\"color: #7f7f7f; text-decoration-color: #7f7f7f\">483</span></a>\n",
       "</pre>\n"
      ],
      "text/plain": [
       "\u001b[2;36m                   \u001b[0m\u001b[2;36m \u001b[0m\u001b[34mINFO    \u001b[0m Loading data from \u001b[38;5;208mparams:payment_methods\u001b[0m \u001b[1m(\u001b[0mMemoryDataset\u001b[1m)\u001b[0m\u001b[33m...\u001b[0m        \u001b]8;id=893774;file:///Users/joel_schwarzmann/anaconda3/envs/jaffle-lineage/lib/python3.10/site-packages/kedro/io/data_catalog.py\u001b\\\u001b[2mdata_catalog.py\u001b[0m\u001b]8;;\u001b\\\u001b[2m:\u001b[0m\u001b]8;id=81660;file:///Users/joel_schwarzmann/anaconda3/envs/jaffle-lineage/lib/python3.10/site-packages/kedro/io/data_catalog.py#483\u001b\\\u001b[2m483\u001b[0m\u001b]8;;\u001b\\\n"
      ]
     },
     "metadata": {},
     "output_type": "display_data"
    },
    {
     "data": {
      "text/html": [
       "<pre style=\"white-space:pre;overflow-x:auto;line-height:normal;font-family:Menlo,'DejaVu Sans Mono',consolas,'Courier New',monospace\"><span style=\"color: #7fbfbf; text-decoration-color: #7fbfbf\">                    </span><span style=\"color: #000080; text-decoration-color: #000080\">INFO    </span> Running node:                                                              <a href=\"file:///Users/joel_schwarzmann/anaconda3/envs/jaffle-lineage/lib/python3.10/site-packages/kedro/pipeline/node.py\" target=\"_blank\"><span style=\"color: #7f7f7f; text-decoration-color: #7f7f7f\">node.py</span></a><span style=\"color: #7f7f7f; text-decoration-color: #7f7f7f\">:</span><a href=\"file:///Users/joel_schwarzmann/anaconda3/envs/jaffle-lineage/lib/python3.10/site-packages/kedro/pipeline/node.py#340\" target=\"_blank\"><span style=\"color: #7f7f7f; text-decoration-color: #7f7f7f\">340</span></a>\n",
       "<span style=\"color: #7fbfbf; text-decoration-color: #7fbfbf\">                    </span>         <span style=\"color: #800080; text-decoration-color: #800080; font-weight: bold\">process_orders</span><span style=\"font-weight: bold\">([</span>stg_orders;stg_payments;params:payment_methods<span style=\"font-weight: bold\">])</span> -&gt;        <span style=\"color: #7f7f7f; text-decoration-color: #7f7f7f\">           </span>\n",
       "<span style=\"color: #7fbfbf; text-decoration-color: #7fbfbf\">                    </span>         <span style=\"font-weight: bold\">[</span>orders;temp_orders<span style=\"font-weight: bold\">]</span>                                                       <span style=\"color: #7f7f7f; text-decoration-color: #7f7f7f\">           </span>\n",
       "</pre>\n"
      ],
      "text/plain": [
       "\u001b[2;36m                   \u001b[0m\u001b[2;36m \u001b[0m\u001b[34mINFO    \u001b[0m Running node:                                                              \u001b]8;id=603947;file:///Users/joel_schwarzmann/anaconda3/envs/jaffle-lineage/lib/python3.10/site-packages/kedro/pipeline/node.py\u001b\\\u001b[2mnode.py\u001b[0m\u001b]8;;\u001b\\\u001b[2m:\u001b[0m\u001b]8;id=911768;file:///Users/joel_schwarzmann/anaconda3/envs/jaffle-lineage/lib/python3.10/site-packages/kedro/pipeline/node.py#340\u001b\\\u001b[2m340\u001b[0m\u001b]8;;\u001b\\\n",
       "\u001b[2;36m                    \u001b[0m         \u001b[1;35mprocess_orders\u001b[0m\u001b[1m(\u001b[0m\u001b[1m[\u001b[0mstg_orders;stg_payments;params:payment_methods\u001b[1m]\u001b[0m\u001b[1m)\u001b[0m ->        \u001b[2m           \u001b[0m\n",
       "\u001b[2;36m                    \u001b[0m         \u001b[1m[\u001b[0morders;temp_orders\u001b[1m]\u001b[0m                                                       \u001b[2m           \u001b[0m\n"
      ]
     },
     "metadata": {},
     "output_type": "display_data"
    },
    {
     "data": {
      "text/html": [
       "<pre style=\"white-space:pre;overflow-x:auto;line-height:normal;font-family:Menlo,'DejaVu Sans Mono',consolas,'Courier New',monospace\"></pre>\n"
      ],
      "text/plain": []
     },
     "metadata": {},
     "output_type": "display_data"
    },
    {
     "data": {
      "text/plain": [
       "\u001b[1m{\u001b[0m\u001b[32m'orders'\u001b[0m: \u001b[1m[\u001b[0m\u001b[32m'2435726319686336928'\u001b[0m\u001b[1m]\u001b[0m, \u001b[32m'temp_orders'\u001b[0m: \u001b[1m[\u001b[0m\u001b[32m'-6434569716298973142'\u001b[0m\u001b[1m]\u001b[0m\u001b[1m}\u001b[0m"
      ]
     },
     "execution_count": 87,
     "metadata": {},
     "output_type": "execute_result"
    }
   ],
   "source": [
    "import networkx as nx\n",
    "from itertools import chain\n",
    "\n",
    "node_outputs = n.run(\n",
    "    {\n",
    "        x: catalog.load(x).head(0) if \"params:\" not in x else catalog.load(x)\n",
    "        for x in n.inputs\n",
    "    }\n",
    ")\n",
    "\n",
    "ibis_output_graphs = {output : ibis_expr_to_graph(g) for output, g in node_outputs.items()}\n",
    "\n",
    "last_topo_sorts = {output: list(nx.topological_generations(g))[-1] for output, g in ibis_output_graphs.items()}\n",
    "\n",
    "\n",
    "last_topo_sorts\n",
    "\n",
    "#nx_ibis_graphs = nx.compose_all(ibis_graphs)\n",
    "\n",
    "\n",
    "\n"
   ]
  },
  {
   "cell_type": "code",
   "execution_count": 89,
   "id": "d431ab90",
   "metadata": {},
   "outputs": [
    {
     "data": {
      "text/html": [
       "<pre style=\"white-space:pre;overflow-x:auto;line-height:normal;font-family:Menlo,'DejaVu Sans Mono',consolas,'Courier New',monospace\"></pre>\n"
      ],
      "text/plain": []
     },
     "metadata": {},
     "output_type": "display_data"
    },
    {
     "data": {
      "text/plain": [
       "\n",
       "\u001b[1m{\u001b[0m\n",
       "    \u001b[32m'data_name'\u001b[0m: \u001b[3;35mNone\u001b[0m,\n",
       "    \u001b[32m'operation_name'\u001b[0m: \u001b[32m'Sample'\u001b[0m,\n",
       "    \u001b[32m'types'\u001b[0m: \u001b[1m{\u001b[0m\n",
       "        \u001b[32m'order_id'\u001b[0m: \u001b[1;35mInt64\u001b[0m\u001b[1m(\u001b[0m\u001b[33mnullable\u001b[0m=\u001b[3;92mTrue\u001b[0m\u001b[1m)\u001b[0m,\n",
       "        \u001b[32m'customer_id'\u001b[0m: \u001b[1;35mInt64\u001b[0m\u001b[1m(\u001b[0m\u001b[33mnullable\u001b[0m=\u001b[3;92mTrue\u001b[0m\u001b[1m)\u001b[0m,\n",
       "        \u001b[32m'order_date'\u001b[0m: \u001b[1;35mDate\u001b[0m\u001b[1m(\u001b[0m\u001b[33mnullable\u001b[0m=\u001b[3;92mTrue\u001b[0m\u001b[1m)\u001b[0m,\n",
       "        \u001b[32m'status'\u001b[0m: \u001b[1;35mString\u001b[0m\u001b[1m(\u001b[0m\u001b[33mnullable\u001b[0m=\u001b[3;92mTrue\u001b[0m\u001b[1m)\u001b[0m\n",
       "    \u001b[1m}\u001b[0m\n",
       "\u001b[1m}\u001b[0m"
      ]
     },
     "execution_count": 89,
     "metadata": {},
     "output_type": "execute_result"
    }
   ],
   "source": [
    "ibis_output_graphs['temp_orders'].nodes['-6434569716298973142']"
   ]
  },
  {
   "cell_type": "code",
   "execution_count": 82,
   "id": "f440d265",
   "metadata": {},
   "outputs": [
    {
     "data": {
      "text/html": [
       "<pre style=\"white-space:pre;overflow-x:auto;line-height:normal;font-family:Menlo,'DejaVu Sans Mono',consolas,'Courier New',monospace\"></pre>\n"
      ],
      "text/plain": []
     },
     "metadata": {},
     "output_type": "display_data"
    },
    {
     "data": {
      "text/plain": [
       "\u001b[1;35mdict_keys\u001b[0m\u001b[1m(\u001b[0m\u001b[1m[\u001b[0m\u001b[32m'orders'\u001b[0m, \u001b[32m'temp_orders'\u001b[0m\u001b[1m]\u001b[0m\u001b[1m)\u001b[0m"
      ]
     },
     "execution_count": 82,
     "metadata": {},
     "output_type": "execute_result"
    }
   ],
   "source": [
    "node_outputs.keys()"
   ]
  },
  {
   "cell_type": "code",
   "execution_count": null,
   "id": "abfc0954",
   "metadata": {},
   "outputs": [],
   "source": []
  }
 ],
 "metadata": {
  "kernelspec": {
   "display_name": "Kedro (jaffle_shop)",
   "language": "python",
   "name": "kedro_jaffle_shop"
  },
  "language_info": {
   "codemirror_mode": {
    "name": "ipython",
    "version": 3
   },
   "file_extension": ".py",
   "mimetype": "text/x-python",
   "name": "python",
   "nbconvert_exporter": "python",
   "pygments_lexer": "ipython3",
   "version": "3.10.13"
  }
 },
 "nbformat": 4,
 "nbformat_minor": 5
}
