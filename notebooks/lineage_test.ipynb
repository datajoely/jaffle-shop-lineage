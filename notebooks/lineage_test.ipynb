{
 "cells": [
  {
   "cell_type": "markdown",
   "id": "4471b872",
   "metadata": {},
   "source": [
    "# POC show Ibis CLL within Kedro pipeline DAG"
   ]
  },
  {
   "cell_type": "code",
   "execution_count": 3,
   "id": "25e5fa5f",
   "metadata": {},
   "outputs": [],
   "source": [
    "from kedro.runner.sequential_runner import SequentialRunner\n",
    "from kedro.io.data_catalog import DataCatalog\n",
    "from jaffle_shop.utilities.graph import (\n",
    "    kedro_node_ibis_plan, \n",
    "    kedro_pipeline_to_graph, \n",
    "    nx_graph_to_pyvis,\n",
    "    get_lineage_for_kedro_node\n",
    ")"
   ]
  },
  {
   "cell_type": "markdown",
   "id": "33fbc402",
   "metadata": {},
   "source": [
    "Retrieve pipelines object (automatically in scope via `kedro jupyter notebook`)"
   ]
  },
  {
   "cell_type": "code",
   "execution_count": 4,
   "id": "d9303846",
   "metadata": {},
   "outputs": [
    {
     "data": {
      "text/html": [
       "<pre style=\"white-space:pre;overflow-x:auto;line-height:normal;font-family:Menlo,'DejaVu Sans Mono',consolas,'Courier New',monospace\"></pre>\n"
      ],
      "text/plain": []
     },
     "metadata": {},
     "output_type": "display_data"
    },
    {
     "data": {
      "text/plain": [
       "\n",
       "\u001b[1;35mPipeline\u001b[0m\u001b[1m(\u001b[0m\u001b[1m[\u001b[0m\n",
       "\u001b[1;35mNode\u001b[0m\u001b[1m(\u001b[0mrename_customers, \u001b[32m'raw_customers'\u001b[0m, \u001b[32m'stg_customers'\u001b[0m, \u001b[3;35mNone\u001b[0m\u001b[1m)\u001b[0m,\n",
       "\u001b[1;35mNode\u001b[0m\u001b[1m(\u001b[0mrename_orders, \u001b[32m'raw_orders'\u001b[0m, \u001b[32m'stg_orders'\u001b[0m, \u001b[3;35mNone\u001b[0m\u001b[1m)\u001b[0m,\n",
       "\u001b[1;35mNode\u001b[0m\u001b[1m(\u001b[0mrename_payments, \u001b[32m'raw_payments'\u001b[0m, \u001b[32m'stg_payments'\u001b[0m, \u001b[3;35mNone\u001b[0m\u001b[1m)\u001b[0m,\n",
       "\u001b[1;35mNode\u001b[0m\u001b[1m(\u001b[0mprocess_customers, \u001b[1m[\u001b[0m\u001b[32m'stg_customers'\u001b[0m, \u001b[32m'stg_orders'\u001b[0m, \u001b[32m'stg_payments'\u001b[0m\u001b[1m]\u001b[0m, \u001b[32m'customers'\u001b[0m, \u001b[3;35mNone\u001b[0m\u001b[1m)\u001b[0m,\n",
       "\u001b[1;35mNode\u001b[0m\u001b[1m(\u001b[0mprocess_orders, \u001b[1m[\u001b[0m\u001b[32m'stg_orders'\u001b[0m, \u001b[32m'stg_payments'\u001b[0m, \u001b[32m'params:payment_methods'\u001b[0m\u001b[1m]\u001b[0m, \u001b[1m[\u001b[0m\u001b[32m'orders'\u001b[0m, \u001b[32m'temp_orders'\u001b[0m\u001b[1m]\u001b[0m, \u001b[3;35mNone\u001b[0m\u001b[1m)\u001b[0m\n",
       "\u001b[1m]\u001b[0m\u001b[1m)\u001b[0m"
      ]
     },
     "execution_count": 4,
     "metadata": {},
     "output_type": "execute_result"
    }
   ],
   "source": [
    "default_pipeline = pipelines['__default__']\n",
    "default_pipeline"
   ]
  },
  {
   "cell_type": "markdown",
   "id": "379855a3",
   "metadata": {},
   "source": [
    "## Render Kedro Pipeline (equivilent to Kedro-Viz)"
   ]
  },
  {
   "cell_type": "code",
   "execution_count": 5,
   "id": "0152933e",
   "metadata": {},
   "outputs": [
    {
     "name": "stdout",
     "output_type": "stream",
     "text": [
      "DiGraph with 15 nodes and 15 edges <class 'networkx.classes.digraph.DiGraph'>\n",
      "../data/03_primary/kedro_pipeline.html\n"
     ]
    },
    {
     "data": {
      "text/html": [
       "<pre style=\"white-space:pre;overflow-x:auto;line-height:normal;font-family:Menlo,'DejaVu Sans Mono',consolas,'Courier New',monospace\"></pre>\n"
      ],
      "text/plain": []
     },
     "metadata": {},
     "output_type": "display_data"
    },
    {
     "data": {
      "text/html": [
       "\n",
       "        <iframe\n",
       "            width=\"100%\"\n",
       "            height=\"600px\"\n",
       "            src=\"../data/03_primary/kedro_pipeline.html\"\n",
       "            frameborder=\"0\"\n",
       "            allowfullscreen\n",
       "            \n",
       "        ></iframe>\n",
       "        "
      ],
      "text/plain": [
       "\u001b[1m<\u001b[0m\u001b[1;95mIPython.lib.display.IFrame\u001b[0m\u001b[39m object at \u001b[0m\u001b[1;36m0x149a9c1f0\u001b[0m\u001b[1m>\u001b[0m"
      ]
     },
     "execution_count": 5,
     "metadata": {},
     "output_type": "execute_result"
    }
   ],
   "source": [
    "nx_pipeline_graph = kedro_pipeline_to_graph(default_pipeline, catalog)\n",
    "print(nx_pipeline_graph, type(nx_pipeline_graph))\n",
    "nx_graph_to_pyvis(nx_pipeline_graph).show('../data/03_primary/kedro_pipeline.html')"
   ]
  },
  {
   "cell_type": "markdown",
   "id": "a5c89abd",
   "metadata": {},
   "source": [
    "## Retrieve Kedro Node"
   ]
  },
  {
   "cell_type": "code",
   "execution_count": 6,
   "id": "b6704c90",
   "metadata": {},
   "outputs": [
    {
     "data": {
      "text/html": [
       "<pre style=\"white-space:pre;overflow-x:auto;line-height:normal;font-family:Menlo,'DejaVu Sans Mono',consolas,'Courier New',monospace\"></pre>\n"
      ],
      "text/plain": []
     },
     "metadata": {},
     "output_type": "display_data"
    },
    {
     "data": {
      "text/plain": [
       "\u001b[1;35mNode\u001b[0m\u001b[1m(\u001b[0mrename_payments, \u001b[32m'raw_payments'\u001b[0m, \u001b[32m'stg_payments'\u001b[0m, \u001b[3;35mNone\u001b[0m\u001b[1m)\u001b[0m"
      ]
     },
     "execution_count": 6,
     "metadata": {},
     "output_type": "execute_result"
    }
   ],
   "source": [
    "n = default_pipeline.nodes[2]\n",
    "n"
   ]
  },
  {
   "cell_type": "code",
   "execution_count": 7,
   "id": "648ac137",
   "metadata": {},
   "outputs": [
    {
     "name": "stdout",
     "output_type": "stream",
     "text": [
      "def rename_payments(source: ir.Table) -> ir.Table:\n",
      "    # `amount` is currently stored in cents, so we convert it to dollars\n",
      "    amount_in_dollars = (source.amount / 100).name(\"amount\")\n",
      "\n",
      "    renamed = source[\n",
      "        source.id.name(\"payment_id\"),\n",
      "        \"order_id\",\n",
      "        \"payment_method\",\n",
      "        amount_in_dollars,\n",
      "    ]\n",
      "    return renamed\n",
      "\n"
     ]
    }
   ],
   "source": [
    "import inspect\n",
    "print(inspect.getsource(n.func))"
   ]
  },
  {
   "cell_type": "markdown",
   "id": "ad098a8a",
   "metadata": {},
   "source": [
    "## Show Ibis CLL within Kedro node"
   ]
  },
  {
   "cell_type": "code",
   "execution_count": 8,
   "id": "de2f3f29",
   "metadata": {},
   "outputs": [
    {
     "name": "stdout",
     "output_type": "stream",
     "text": [
      "../data/03_primary/kedro_node.html\n"
     ]
    },
    {
     "data": {
      "text/html": [
       "<pre style=\"white-space:pre;overflow-x:auto;line-height:normal;font-family:Menlo,'DejaVu Sans Mono',consolas,'Courier New',monospace\"></pre>\n"
      ],
      "text/plain": []
     },
     "metadata": {},
     "output_type": "display_data"
    },
    {
     "data": {
      "text/html": [
       "\n",
       "        <iframe\n",
       "            width=\"100%\"\n",
       "            height=\"600px\"\n",
       "            src=\"../data/03_primary/kedro_node.html\"\n",
       "            frameborder=\"0\"\n",
       "            allowfullscreen\n",
       "            \n",
       "        ></iframe>\n",
       "        "
      ],
      "text/plain": [
       "\u001b[1m<\u001b[0m\u001b[1;95mIPython.lib.display.IFrame\u001b[0m\u001b[39m object at \u001b[0m\u001b[1;36m0x14f3ffd90\u001b[0m\u001b[1m>\u001b[0m"
      ]
     },
     "execution_count": 8,
     "metadata": {},
     "output_type": "execute_result"
    }
   ],
   "source": [
    "nx_node_graph = kedro_node_ibis_plan(n,catalog)\n",
    "nx_graph_to_pyvis(nx_node_graph).show('../data/03_primary/kedro_node.html')"
   ]
  },
  {
   "cell_type": "markdown",
   "id": "843e9c06",
   "metadata": {},
   "source": [
    "## Combine Ibis CLL with wider Kedro DAG"
   ]
  },
  {
   "cell_type": "code",
   "execution_count": 9,
   "id": "120e9b99",
   "metadata": {},
   "outputs": [
    {
     "name": "stdout",
     "output_type": "stream",
     "text": [
      "graph.html\n"
     ]
    },
    {
     "data": {
      "text/html": [
       "<pre style=\"white-space:pre;overflow-x:auto;line-height:normal;font-family:Menlo,'DejaVu Sans Mono',consolas,'Courier New',monospace\"></pre>\n"
      ],
      "text/plain": []
     },
     "metadata": {},
     "output_type": "display_data"
    },
    {
     "data": {
      "text/html": [
       "\n",
       "        <iframe\n",
       "            width=\"100%\"\n",
       "            height=\"600px\"\n",
       "            src=\"graph.html\"\n",
       "            frameborder=\"0\"\n",
       "            allowfullscreen\n",
       "            \n",
       "        ></iframe>\n",
       "        "
      ],
      "text/plain": [
       "\u001b[1m<\u001b[0m\u001b[1;95mIPython.lib.display.IFrame\u001b[0m\u001b[39m object at \u001b[0m\u001b[1;36m0x129f0a530\u001b[0m\u001b[1m>\u001b[0m"
      ]
     },
     "execution_count": 9,
     "metadata": {},
     "output_type": "execute_result"
    }
   ],
   "source": [
    "nx_graph_to_pyvis(\n",
    "    get_lineage_for_kedro_node(\n",
    "        default_pipeline,\n",
    "        default_pipeline.nodes[2],\n",
    "        catalog\n",
    "    )\n",
    ").show('graph.html')"
   ]
  },
  {
   "cell_type": "code",
   "execution_count": null,
   "id": "55d61825",
   "metadata": {},
   "outputs": [],
   "source": []
  }
 ],
 "metadata": {
  "kernelspec": {
   "display_name": "Kedro (jaffle_shop)",
   "language": "python",
   "name": "kedro_jaffle_shop"
  },
  "language_info": {
   "codemirror_mode": {
    "name": "ipython",
    "version": 3
   },
   "file_extension": ".py",
   "mimetype": "text/x-python",
   "name": "python",
   "nbconvert_exporter": "python",
   "pygments_lexer": "ipython3",
   "version": "3.10.13"
  }
 },
 "nbformat": 4,
 "nbformat_minor": 5
}
