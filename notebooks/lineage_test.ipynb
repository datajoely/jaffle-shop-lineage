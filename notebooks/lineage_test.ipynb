{
 "cells": [
  {
   "cell_type": "code",
   "execution_count": 1,
   "id": "d7c784ec",
   "metadata": {},
   "outputs": [],
   "source": [
    "%load_ext autoreload\n",
    "%autoreload"
   ]
  },
  {
   "cell_type": "code",
   "execution_count": 2,
   "id": "25e5fa5f",
   "metadata": {},
   "outputs": [],
   "source": [
    "from kedro.runner.sequential_runner import SequentialRunner\n",
    "from kedro.io.data_catalog import DataCatalog\n",
    "from jaffle_shop.utilities.graph import kedro_node_to_graph, kedro_pipeline_to_graph, render_nx_graph"
   ]
  },
  {
   "cell_type": "code",
   "execution_count": 3,
   "id": "d9303846",
   "metadata": {},
   "outputs": [
    {
     "name": "stdout",
     "output_type": "stream",
     "text": [
      "graph.html\n"
     ]
    },
    {
     "data": {
      "text/html": [
       "<pre style=\"white-space:pre;overflow-x:auto;line-height:normal;font-family:Menlo,'DejaVu Sans Mono',consolas,'Courier New',monospace\"></pre>\n"
      ],
      "text/plain": []
     },
     "metadata": {},
     "output_type": "display_data"
    },
    {
     "data": {
      "text/html": [
       "\n",
       "        <iframe\n",
       "            width=\"100%\"\n",
       "            height=\"600px\"\n",
       "            src=\"graph.html\"\n",
       "            frameborder=\"0\"\n",
       "            allowfullscreen\n",
       "            \n",
       "        ></iframe>\n",
       "        "
      ],
      "text/plain": [
       "\u001b[1m<\u001b[0m\u001b[1;95mIPython.lib.display.IFrame\u001b[0m\u001b[39m object at \u001b[0m\u001b[1;36m0x173af6740\u001b[0m\u001b[1m>\u001b[0m"
      ]
     },
     "execution_count": 3,
     "metadata": {},
     "output_type": "execute_result"
    }
   ],
   "source": [
    "default_pipeline = pipelines['__default__']\n",
    "nx_pipeline_graph = kedro_pipeline_to_graph(default_pipeline, catalog)\n",
    "render_nx_graph(nx_pipeline_graph).show('graph.html')"
   ]
  },
  {
   "cell_type": "code",
   "execution_count": 4,
   "id": "22fa23ad",
   "metadata": {},
   "outputs": [
    {
     "name": "stdout",
     "output_type": "stream",
     "text": [
      "graph.html\n"
     ]
    },
    {
     "data": {
      "text/html": [
       "<pre style=\"white-space:pre;overflow-x:auto;line-height:normal;font-family:Menlo,'DejaVu Sans Mono',consolas,'Courier New',monospace\"></pre>\n"
      ],
      "text/plain": []
     },
     "metadata": {},
     "output_type": "display_data"
    },
    {
     "data": {
      "text/html": [
       "\n",
       "        <iframe\n",
       "            width=\"100%\"\n",
       "            height=\"600px\"\n",
       "            src=\"graph.html\"\n",
       "            frameborder=\"0\"\n",
       "            allowfullscreen\n",
       "            \n",
       "        ></iframe>\n",
       "        "
      ],
      "text/plain": [
       "\u001b[1m<\u001b[0m\u001b[1;95mIPython.lib.display.IFrame\u001b[0m\u001b[39m object at \u001b[0m\u001b[1;36m0x177b7e440\u001b[0m\u001b[1m>\u001b[0m"
      ]
     },
     "execution_count": 4,
     "metadata": {},
     "output_type": "execute_result"
    }
   ],
   "source": [
    "n = default_pipeline.nodes[2]\n",
    "nx_node_graph = kedro_node_to_graph(n,catalog)\n",
    "render_nx_graph(nx_node_graph).show('graph.html')"
   ]
  },
  {
   "cell_type": "code",
   "execution_count": 12,
   "id": "ed8f03ca",
   "metadata": {},
   "outputs": [
    {
     "name": "stdout",
     "output_type": "stream",
     "text": [
      "graph.html\n"
     ]
    },
    {
     "data": {
      "text/html": [
       "<pre style=\"white-space:pre;overflow-x:auto;line-height:normal;font-family:Menlo,'DejaVu Sans Mono',consolas,'Courier New',monospace\"></pre>\n"
      ],
      "text/plain": []
     },
     "metadata": {},
     "output_type": "display_data"
    },
    {
     "data": {
      "text/html": [
       "\n",
       "        <iframe\n",
       "            width=\"100%\"\n",
       "            height=\"600px\"\n",
       "            src=\"graph.html\"\n",
       "            frameborder=\"0\"\n",
       "            allowfullscreen\n",
       "            \n",
       "        ></iframe>\n",
       "        "
      ],
      "text/plain": [
       "\u001b[1m<\u001b[0m\u001b[1;95mIPython.lib.display.IFrame\u001b[0m\u001b[39m object at \u001b[0m\u001b[1;36m0x288b29930\u001b[0m\u001b[1m>\u001b[0m"
      ]
     },
     "execution_count": 12,
     "metadata": {},
     "output_type": "execute_result"
    }
   ],
   "source": [
    "import networkx as nx\n",
    "\n",
    "def get_lineage_for_kedro_node(pipe, node, data_catalog):\n",
    "    \n",
    "    def _retrieve_node_by_desc(g, key, value):\n",
    "        for i, n in g.nodes(data=True):\n",
    "            if n.get(key) == value:\n",
    "                return i\n",
    "    \n",
    "    pipe = pipelines['__default__']\n",
    "    pipeline_graph = kedro_pipeline_to_graph(pipe, catalog)\n",
    "    node_graph = kedro_node_to_graph(node,catalog)\n",
    "    combined_graphs = nx.disjoint_union(node_graph, pipeline_graph)\n",
    "    \n",
    "    for i in node.inputs:\n",
    "        kedro_edge = _retrieve_node_by_desc(combined_graphs, \"label\", i)\n",
    "        ibis_edge = _retrieve_node_by_desc(combined_graphs, \"description\", i)\n",
    "        combined_graphs.add_edge(kedro_edge, ibis_edge)\n",
    "        \n",
    "    for o in node.outputs:\n",
    "        kedro_edge = _retrieve_node_by_desc(combined_graphs, \"label\", o)\n",
    "        ibis_edge = _retrieve_node_by_desc(combined_graphs, \"description\", o)\n",
    "        combined_graphs.add_edge(ibis_edge, kedro_edge)\n",
    "    \n",
    "    return combined_graphs\n",
    "    \n",
    "    \n",
    "render_nx_graph(\n",
    "    get_lineage_for_kedro_node(\n",
    "        default_pipeline,\n",
    "        default_pipeline.nodes[2],\n",
    "        catalog\n",
    "    )\n",
    ").show('graph.html')"
   ]
  },
  {
   "cell_type": "code",
   "execution_count": null,
   "id": "ceb19eb6",
   "metadata": {},
   "outputs": [],
   "source": []
  },
  {
   "cell_type": "code",
   "execution_count": null,
   "id": "adf742b3",
   "metadata": {},
   "outputs": [],
   "source": []
  }
 ],
 "metadata": {
  "kernelspec": {
   "display_name": "Kedro (jaffle_shop)",
   "language": "python",
   "name": "kedro_jaffle_shop"
  },
  "language_info": {
   "codemirror_mode": {
    "name": "ipython",
    "version": 3
   },
   "file_extension": ".py",
   "mimetype": "text/x-python",
   "name": "python",
   "nbconvert_exporter": "python",
   "pygments_lexer": "ipython3",
   "version": "3.10.13"
  }
 },
 "nbformat": 4,
 "nbformat_minor": 5
}
